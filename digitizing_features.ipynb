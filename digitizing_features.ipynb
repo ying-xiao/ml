{
 "cells": [
  {
   "cell_type": "code",
   "execution_count": 114,
   "metadata": {},
   "outputs": [],
   "source": [
    "'''This module is for digitizing all features unless they are already digit.\n",
    "Solution: \n",
    "            If any element of a column is not real, create a sorted set by all elements of this column, then give an unique id for each original data.\n",
    "            Else nothing to do.\n",
    "@Marc\n",
    " '''\n",
    "import numpy as np\n",
    "import pandas as pd\n",
    "\n",
    "#encode for single column\n",
    "def encodeColumn(col):\n",
    "    encodedList = sorted(list(set(col)))\n",
    "    for i in range(len(col)):\n",
    "        element = col[i]\n",
    "        col[i] = encodedList.index(element)\n",
    "    return col\n",
    "\n",
    "#encode for a matrix\n",
    "def encodeMatrix(matrix):\n",
    "    shape = matrix.shape\n",
    "    for col in range(shape[1]):\n",
    "        if not np.isreal(matrix[:, col].any()):\n",
    "            matrix[:, col] = encodeColumn(matrix[:, col])\n",
    "    return matrix"
   ]
  },
  {
   "cell_type": "code",
   "execution_count": 115,
   "metadata": {},
   "outputs": [
    {
     "name": "stdout",
     "output_type": "stream",
     "text": [
      "[[39 7 77516 9 13 4 1 1 4 1 2174 0 40 39]\n",
      " [50 6 83311 9 13 2 4 0 4 1 0 0 13 39]\n",
      " [38 4 215646 11 9 0 6 1 4 1 0 0 40 39]\n",
      " [53 4 234721 1 7 2 6 0 2 1 0 0 40 39]\n",
      " [28 4 338409 9 13 2 10 5 2 0 0 0 40 5]\n",
      " [37 4 284582 12 14 2 4 5 4 0 0 0 40 39]\n",
      " [49 4 160187 6 5 3 8 1 2 0 0 0 16 23]\n",
      " [52 6 209642 11 9 2 4 0 4 1 0 0 45 39]\n",
      " [31 4 45781 12 14 4 10 1 4 0 14084 0 50 39]\n",
      " [42 4 159449 9 13 2 4 0 4 1 5178 0 40 39]\n",
      " [37 4 280464 15 10 2 4 0 2 1 0 0 80 39]\n",
      " [30 7 141297 9 13 2 10 0 1 1 0 0 40 19]\n",
      " [23 4 122272 9 13 4 1 3 4 0 0 0 30 39]\n",
      " [32 4 205019 7 12 4 12 1 2 1 0 0 50 39]\n",
      " [40 4 121772 8 11 2 3 0 1 1 0 0 40 0]\n",
      " [34 4 245487 5 4 2 14 0 0 1 0 0 45 26]\n",
      " [25 6 176756 11 9 4 5 3 4 1 0 0 35 39]\n",
      " [32 4 186824 11 9 4 7 4 4 1 0 0 40 39]\n",
      " [38 4 28887 1 7 2 12 0 4 1 0 0 50 39]\n",
      " [43 6 292175 12 14 0 4 4 4 0 0 0 45 39]]\n",
      "[0 0 0 0 0 0 0 1 1 1 1 1 0 0 1 0 0 0 0 1]\n"
     ]
    }
   ],
   "source": [
    "data_trains = np.array(pd.read_table('adult.data',sep = ',',header=None,engine='python'))\n",
    "x_train = data_trains[:,:-1]\n",
    "y_train = data_trains[:,-1]\n",
    "x_train_digit = encodeMatrix(x_train)\n",
    "y_train_digit = encodeColumn(y_train)\n",
    "print(x_train_digit[:20])\n",
    "print(y_train_digit[:20])"
   ]
  },
  {
   "cell_type": "code",
   "execution_count": 116,
   "metadata": {},
   "outputs": [
    {
     "name": "stdout",
     "output_type": "stream",
     "text": [
      "[[39 7 77516 9 13 4 1 1 4 1 2174 0 40 39]\n",
      " [50 6 83311 9 13 2 4 0 4 1 0 0 13 39]\n",
      " [38 4 215646 11 9 0 6 1 4 1 0 0 40 39]\n",
      " [53 4 234721 1 7 2 6 0 2 1 0 0 40 39]\n",
      " [28 4 338409 9 13 2 10 5 2 0 0 0 40 5]\n",
      " [37 4 284582 12 14 2 4 5 4 0 0 0 40 39]\n",
      " [49 4 160187 6 5 3 8 1 2 0 0 0 16 23]\n",
      " [52 6 209642 11 9 2 4 0 4 1 0 0 45 39]\n",
      " [31 4 45781 12 14 4 10 1 4 0 14084 0 50 39]\n",
      " [42 4 159449 9 13 2 4 0 4 1 5178 0 40 39]\n",
      " [37 4 280464 15 10 2 4 0 2 1 0 0 80 39]\n",
      " [30 7 141297 9 13 2 10 0 1 1 0 0 40 19]\n",
      " [23 4 122272 9 13 4 1 3 4 0 0 0 30 39]\n",
      " [32 4 205019 7 12 4 12 1 2 1 0 0 50 39]\n",
      " [40 4 121772 8 11 2 3 0 1 1 0 0 40 0]\n",
      " [34 4 245487 5 4 2 14 0 0 1 0 0 45 26]\n",
      " [25 6 176756 11 9 4 5 3 4 1 0 0 35 39]\n",
      " [32 4 186824 11 9 4 7 4 4 1 0 0 40 39]\n",
      " [38 4 28887 1 7 2 12 0 4 1 0 0 50 39]\n",
      " [43 6 292175 12 14 0 4 4 4 0 0 0 45 39]]\n",
      "[0 0 0 0 0 0 0 1 1 1 1 1 0 0 1 0 0 0 0 1]\n"
     ]
    }
   ],
   "source": [
    "data_test = np.array(pd.read_table('adult.test',sep = ',',header=None,skiprows=[0],engine='python'))\n",
    "x_test = data_test[:,:-1]\n",
    "y_test = data_test[:,-1]\n",
    "x_test_digit = encodeMatrix(x_test)\n",
    "y_test_digit = encodeColumn(y_test)\n",
    "print(x_train_digit[:20])\n",
    "print(y_train_digit[:20])"
   ]
  }
 ],
 "metadata": {
  "kernelspec": {
   "display_name": "Python 3",
   "language": "python",
   "name": "python3"
  },
  "language_info": {
   "codemirror_mode": {
    "name": "ipython",
    "version": 3
   },
   "file_extension": ".py",
   "mimetype": "text/x-python",
   "name": "python",
   "nbconvert_exporter": "python",
   "pygments_lexer": "ipython3",
   "version": "3.6.5"
  }
 },
 "nbformat": 4,
 "nbformat_minor": 2
}
