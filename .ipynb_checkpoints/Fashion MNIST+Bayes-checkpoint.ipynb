{
 "cells": [
  {
   "cell_type": "code",
   "execution_count": 1,
   "metadata": {},
   "outputs": [],
   "source": [
    "import numpy as np\n",
    "import matplotlib.pyplot as plt\n",
    "%matplotlib inline"
   ]
  },
  {
   "cell_type": "markdown",
   "metadata": {},
   "source": [
    "## IMPORT DATA"
   ]
  },
  {
   "cell_type": "code",
   "execution_count": 4,
   "metadata": {},
   "outputs": [
    {
     "name": "stdout",
     "output_type": "stream",
     "text": [
      "x_train: (784, 50000)\n",
      "y_train: (50000,)\n",
      "x_valid: (784, 10000)\n",
      "y_valid: (10000,)\n",
      "x_test: (784, 10000)\n",
      "y_test: (10000,)\n"
     ]
    }
   ],
   "source": [
    "import utils.mnist_reader as mnist_reader\n",
    "from utils import mnist_reader\n",
    "XM_train, YM_train = mnist_reader.load_mnist('data-FM/fashion', kind='train')\n",
    "XM_test, YM_test = mnist_reader.load_mnist('data-FM/fashion', kind='t10k')\n",
    "\n",
    "# divide training data to two parts, one for training, and the other is for validation, then, normalized the datas.\n",
    "inds = np.arange(len(XM_train))\n",
    "np.random.seed(5)\n",
    "np.random.shuffle(inds)\n",
    "train_inds = inds[:50000]\n",
    "valid_inds = inds[50000:]\n",
    "\n",
    "x_train = np.array(XM_train[train_inds,:]).T\n",
    "# xt_mean = np.mean(x_train)\n",
    "# xt_std = np.std(x_train)\n",
    "# x_train = (x_train-xt_mean)/xt_std\n",
    "y_train = np.array(YM_train[train_inds])\n",
    "print('x_train:',np.shape(x_train))\n",
    "print('y_train:',np.shape(y_train))\n",
    "\n",
    "x_valid = np.array(XM_train[valid_inds,:]).T\n",
    "# xv_mean = np.mean(x_valid)\n",
    "# xv_std = np.std(x_valid)\n",
    "# x_valid = (x_valid-xv_mean)/xv_std\n",
    "y_valid = np.array(YM_train[valid_inds])\n",
    "print('x_valid:',np.shape(x_valid))\n",
    "print('y_valid:',np.shape(y_valid))\n",
    "\n",
    "x_test = np.array(XM_test).T\n",
    "# xte_mean = np.mean(x_test)\n",
    "# xte_std = np.std(x_test)\n",
    "# x_test = (x_test-xte_mean)/xte_std\n",
    "y_test = np.array(YM_test)\n",
    "print('x_test:',np.shape(x_test))\n",
    "print('y_test:',np.shape(y_test))"
   ]
  },
  {
   "cell_type": "code",
   "execution_count": 5,
   "metadata": {},
   "outputs": [
    {
     "data": {
      "text/plain": [
       "<matplotlib.image.AxesImage at 0x1101274a8>"
      ]
     },
     "execution_count": 5,
     "metadata": {},
     "output_type": "execute_result"
    },
    {
     "data": {
      "image/png": "[encoded data removed]",
      "text/plain": [
       "<Figure size 432x288 with 1 Axes>"
      ]
     },
     "metadata": {},
     "output_type": "display_data"
    }
   ],
   "source": [
    "x_train1 = (x_train[:,1]).reshape(28,28)\n",
    "plt.imshow(x_train1)"
   ]
  },
  {
   "cell_type": "markdown",
   "metadata": {},
   "source": [
    "## Naive Bayes"
   ]
  },
  {
   "cell_type": "markdown",
   "metadata": {},
   "source": [
    "### ---- GaussianNB"
   ]
  },
  {
   "cell_type": "code",
   "execution_count": 24,
   "metadata": {},
   "outputs": [],
   "source": [
    "#calculate the probility of each kind: p(class)\n",
    "def stat_prob(label):\n",
    "    label_unique = np.unique(label)\n",
    "    n_unique = len(label_unique)\n",
    "    n = len(label)\n",
    "    count = np.zeros(n_unique)\n",
    "    for i in range(n):\n",
    "        count[label[i]] += 1\n",
    "    probability = count/n\n",
    "    return probability"
   ]
  },
  {
   "cell_type": "code",
   "execution_count": 35,
   "metadata": {},
   "outputs": [],
   "source": [
    "# demande for data: x is row vector. So we need .T to get it.\n",
    "# only one parameter : priors. Default value is none.Prior probabilities of the classes. \n",
    "# If specified the priors are not adjusted according to the data.\n",
    "from sklearn.naive_bayes import GaussianNB\n",
    "def Gauss_NB(num_train,num_valid): \n",
    "    probability = stat_prob(y_train)\n",
    "    # Here I use all training data for calculating probability. If I use only 1000 training data, then number of mislabeled is 959\n",
    "    gnb = GaussianNB(priors = probability)\n",
    "    gnb.fit(x_train[:,:num_train].T, y_train[:num_train])\n",
    "    y_pred = gnb.predict(x_valid[:,:num_valid].T)\n",
    "    print(\"Number of mislabeled points out of a total %d points : %d\"\n",
    "          % (num_valid,(y_valid[:num_valid] != y_pred).sum()))"
   ]
  },
  {
   "cell_type": "code",
   "execution_count": 36,
   "metadata": {},
   "outputs": [
    {
     "name": "stdout",
     "output_type": "stream",
     "text": [
      "Number of mislabeled points out of a total 5000 points : 2323\n"
     ]
    }
   ],
   "source": [
    "Gauss_NB(5000,5000)"
   ]
  },
  {
   "cell_type": "markdown",
   "metadata": {},
   "source": [
    "### ---- MultinomialNB "
   ]
  },
  {
   "cell_type": "code",
   "execution_count": 55,
   "metadata": {},
   "outputs": [],
   "source": [
    "from sklearn.naive_bayes import MultinomialNB\n",
    "#alpha : float, optional (default=1.0) Additive (Laplace/Lidstone) smoothing parameter (0 for no smoothing).\n",
    "def Multi_NB(num_train,num_valid): \n",
    "    probability = stat_prob(y_train)\n",
    "    mnb = MultinomialNB(alpha=1, fit_prior=False, class_prior=None)\n",
    "    mnb.fit(x_train[:,:num_train].T, y_train[:num_train])\n",
    "    y_pred = mnb.predict(x_valid[:,:num_valid].T)\n",
    "    print(\"Number of mislabeled points out of a total %d points : %d\"\n",
    "          % (num_valid,(y_valid[:num_valid] != y_pred).sum()))"
   ]
  },
  {
   "cell_type": "code",
   "execution_count": 54,
   "metadata": {},
   "outputs": [
    {
     "name": "stdout",
     "output_type": "stream",
     "text": [
      "Number of mislabeled points out of a total 5000 points : 1726\n"
     ]
    }
   ],
   "source": [
    "Multi_NB(5000,5000)"
   ]
  },
  {
   "cell_type": "markdown",
   "metadata": {},
   "source": [
    "### ---- BernoulliNB"
   ]
  },
  {
   "cell_type": "code",
   "execution_count": 64,
   "metadata": {},
   "outputs": [],
   "source": [
    "from sklearn.naive_bayes import BernoulliNB\n",
    "'''\n",
    "alpha : float, optional (default=1.0) Additive (Laplace/Lidstone) smoothing parameter (0 for no smoothing).\n",
    "\n",
    "binarize : float or None, optional (default=0.0) We choose default value.\n",
    "\n",
    "fit_prior : boolean, optional (default=True)\n",
    "\n",
    "    Whether to learn class prior probabilities or not. If false, a uniform prior will be used.\n",
    "\n",
    "class_prior : array-like, size=[n_classes,], optional (default=None)\n",
    "\n",
    "    Prior probabilities of the classes. If specified the priors are not adjusted according to the data.\n",
    "\n",
    "'''\n",
    "def Bern_NB(num_train,num_valid): \n",
    "#    probability = stat_prob(y_train)\n",
    "#    bnb = BernoulliNB(fit_prior = False, class_prior = probability)\n",
    "    bnb = BernoulliNB()\n",
    "    bnb.fit(x_train[:,:num_train].T, y_train[:num_train])\n",
    "    y_pred = bnb.predict(x_valid[:,:num_valid].T)\n",
    "    print(\"Number of mislabeled points out of a total %d points : %d\"\n",
    "          % (num_valid,(y_valid[:num_valid] != y_pred).sum()))"
   ]
  },
  {
   "cell_type": "code",
   "execution_count": 65,
   "metadata": {},
   "outputs": [
    {
     "name": "stdout",
     "output_type": "stream",
     "text": [
      "Number of mislabeled points out of a total 5000 points : 1496\n"
     ]
    }
   ],
   "source": [
    "Bern_NB(5000,5000)"
   ]
  },
  {
   "cell_type": "code",
   "execution_count": null,
   "metadata": {},
   "outputs": [],
   "source": []
  }
 ],
 "metadata": {
  "kernelspec": {
   "display_name": "Python 3",
   "language": "python",
   "name": "python3"
  },
  "language_info": {
   "codemirror_mode": {
    "name": "ipython",
    "version": 3
   },
   "file_extension": ".py",
   "mimetype": "text/x-python",
   "name": "python",
   "nbconvert_exporter": "python",
   "pygments_lexer": "ipython3",
   "version": "3.7.1"
  }
 },
 "nbformat": 4,
 "nbformat_minor": 2
}
