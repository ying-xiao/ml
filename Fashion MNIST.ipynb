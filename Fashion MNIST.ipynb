{
 "cells": [
  {
   "cell_type": "code",
   "execution_count": 1,
   "metadata": {},
   "outputs": [],
   "source": [
    "import numpy as np\n",
    "import matplotlib.pyplot as plt\n",
    "%matplotlib inline"
   ]
  },
  {
   "cell_type": "markdown",
   "metadata": {},
   "source": [
    "## IMPORT DATA"
   ]
  },
  {
   "cell_type": "code",
   "execution_count": 12,
   "metadata": {},
   "outputs": [
    {
     "name": "stdout",
     "output_type": "stream",
     "text": [
      "x_train: (784, 50000)\n",
      "y_train: (1, 50000)\n",
      "x_valid: (784, 10000)\n",
      "y_valid: (1, 10000)\n",
      "x_test: (784, 10000)\n",
      "y_test: (1, 10000)\n"
     ]
    }
   ],
   "source": [
    "import utils.mnist_reader as mnist_reader\n",
    "from utils import mnist_reader\n",
    "XM_train, YM_train = mnist_reader.load_mnist('data-FM/fashion', kind='train')\n",
    "XM_test, YM_test = mnist_reader.load_mnist('data-FM/fashion', kind='t10k')\n",
    "\n",
    "# divide training data to two parts, one for training, and the other is for validation, then, normalized the datas.\n",
    "inds = np.arange(len(XM_train))\n",
    "np.random.shuffle(inds)\n",
    "train_inds = inds[:50000]\n",
    "valid_inds = inds[50000:]\n",
    "\n",
    "x_train = np.matrix(XM_train[train_inds,:]).T\n",
    "# xt_mean = np.mean(x_train)\n",
    "# xt_std = np.std(x_train)\n",
    "# x_train = (x_train-xt_mean)/xt_std\n",
    "y_train = np.matrix(YM_train[train_inds])\n",
    "print('x_train:',np.shape(x_train))\n",
    "print('y_train:',np.shape(y_train))\n",
    "\n",
    "x_valid = np.matrix(XM_train[valid_inds,:]).T\n",
    "# xv_mean = np.mean(x_valid)\n",
    "# xv_std = np.std(x_valid)\n",
    "# x_valid = (x_valid-xv_mean)/xv_std\n",
    "y_valid = np.matrix(YM_train[valid_inds])\n",
    "print('x_valid:',np.shape(x_valid))\n",
    "print('y_valid:',np.shape(y_valid))\n",
    "\n",
    "x_test = np.matrix(XM_test).T\n",
    "# xte_mean = np.mean(x_test)\n",
    "# xte_std = np.std(x_test)\n",
    "# x_test = (x_test-xte_mean)/xte_std\n",
    "y_test = np.matrix(YM_test)\n",
    "print('x_test:',np.shape(x_test))\n",
    "print('y_test:',np.shape(y_test))"
   ]
  },
  {
   "cell_type": "code",
   "execution_count": 14,
   "metadata": {},
   "outputs": [
    {
     "data": {
      "text/plain": [
       "<matplotlib.image.AxesImage at 0x11f254a90>"
      ]
     },
     "execution_count": 14,
     "metadata": {},
     "output_type": "execute_result"
    },
    {
     "data": {
      "image/png": "[encoded data removed]",
      "text/plain": [
       "<Figure size 432x288 with 1 Axes>"
      ]
     },
     "metadata": {},
     "output_type": "display_data"
    }
   ],
   "source": [
    "x_train1 = (x_train[:,1]).reshape(28,28)\n",
    "plt.imshow(x_train1)"
   ]
  },
  {
   "cell_type": "code",
   "execution_count": null,
   "metadata": {},
   "outputs": [],
   "source": []
  }
 ],
 "metadata": {
  "kernelspec": {
   "display_name": "Python 3",
   "language": "python",
   "name": "python3"
  },
  "language_info": {
   "codemirror_mode": {
    "name": "ipython",
    "version": 3
   },
   "file_extension": ".py",
   "mimetype": "text/x-python",
   "name": "python",
   "nbconvert_exporter": "python",
   "pygments_lexer": "ipython3",
   "version": "3.6.5"
  }
 },
 "nbformat": 4,
 "nbformat_minor": 2
}
